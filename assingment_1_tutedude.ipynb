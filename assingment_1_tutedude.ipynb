{
  "nbformat": 4,
  "nbformat_minor": 0,
  "metadata": {
    "colab": {
      "provenance": [],
      "authorship_tag": "ABX9TyOrOgWnpAWQ1nWIP5oIPo52"
    },
    "kernelspec": {
      "name": "python3",
      "display_name": "Python 3"
    },
    "language_info": {
      "name": "python"
    }
  },
  "cells": [
    {
      "cell_type": "markdown",
      "source": [
        "Task 1: Perform Basic Mathematical Operations"
      ],
      "metadata": {
        "id": "2Ty1jutZqYZ5"
      }
    },
    {
      "cell_type": "code",
      "execution_count": null,
      "metadata": {
        "colab": {
          "base_uri": "https://localhost:8080/"
        },
        "id": "ec2Ze0rCo56T",
        "outputId": "007a6b21-1da3-41d5-e810-53b428503fc6"
      },
      "outputs": [
        {
          "output_type": "stream",
          "name": "stdout",
          "text": [
            "Enter the first number: 45\n",
            "Enter the second number: 20\n",
            "Addition: 65\n",
            "Subtraction: 25\n",
            "Multiplication: 900\n",
            "Division: 2.25\n"
          ]
        }
      ],
      "source": [
        "# Get input from the user and convert it to an integer\n",
        "number1 = int(input(\"Enter the first number: \"))\n",
        "number2 = int(input(\"Enter the second number: \"))\n",
        "\n",
        "# Perform calculations and print the results\n",
        "print(f\"Addition: {number1 + number2}\")\n",
        "print(f\"Subtraction: {number1 - number2}\")\n",
        "print(f\"Multiplication: {number1 * number2}\")\n",
        "print(f\"Division: {number1 / number2}\")"
      ]
    },
    {
      "cell_type": "markdown",
      "source": [
        "Task 2: Create a Personalized Greeting"
      ],
      "metadata": {
        "id": "tDlKuY9VqhT4"
      }
    },
    {
      "cell_type": "code",
      "source": [
        "#Get input fROM THE User and convert it to an integer\n",
        "\n",
        "Name = str(input(\"Enter Your First Name \"))\n",
        "Lastname = str(input(\"Enter Your Last Name\"))\n",
        "\n",
        " #Concatenates the first name and last name into a full name\n",
        "\n",
        "Full_Name = Name + Lastname\n",
        "\n",
        " #Prints a personalized greeting message using the full name\n",
        "\n",
        "print(f\"Hello {Full_Name}, Welcome To Python Program\")"
      ],
      "metadata": {
        "colab": {
          "base_uri": "https://localhost:8080/"
        },
        "id": "0XfDFzjkqUJh",
        "outputId": "e5b6c01f-12bf-4e53-b8b7-c5e4328feed3"
      },
      "execution_count": 11,
      "outputs": [
        {
          "output_type": "stream",
          "name": "stdout",
          "text": [
            "Enter Your First Name Shlok \n",
            "Enter Your Last NameTiwari\n",
            "Hello Shlok Tiwari, Welcome To Python Program\n"
          ]
        }
      ]
    }
  ]
}